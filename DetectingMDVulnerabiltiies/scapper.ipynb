{
 "cells": [
  {
   "cell_type": "code",
   "execution_count": 1,
   "metadata": {},
   "outputs": [
    {
     "name": "stderr",
     "output_type": "stream",
     "text": [
      "C:\\Users\\Ziyad\\AppData\\Local\\Temp\\ipykernel_8808\\3956771036.py:50: FutureWarning: The behavior of DataFrame concatenation with empty or all-NA entries is deprecated. In a future version, this will no longer exclude empty or all-NA columns when determining the result dtypes. To retain the old behavior, exclude the relevant entries before the concat operation.\n",
      "  updated_VscodeDataSet = pd.concat([vscodeDataSet,new_row])\n"
     ]
    },
    {
     "ename": "KeyError",
     "evalue": "'statistics'",
     "output_type": "error",
     "traceback": [
      "\u001b[1;31m---------------------------------------------------------------------------\u001b[0m",
      "\u001b[1;31mKeyError\u001b[0m                                  Traceback (most recent call last)",
      "Cell \u001b[1;32mIn[1], line 43\u001b[0m\n\u001b[0;32m     41\u001b[0m name \u001b[38;5;241m=\u001b[39m database[\u001b[38;5;124m'\u001b[39m\u001b[38;5;124mresults\u001b[39m\u001b[38;5;124m'\u001b[39m][\u001b[38;5;241m0\u001b[39m][\u001b[38;5;124m'\u001b[39m\u001b[38;5;124mextensions\u001b[39m\u001b[38;5;124m'\u001b[39m][x][\u001b[38;5;124m'\u001b[39m\u001b[38;5;124mextensionName\u001b[39m\u001b[38;5;124m'\u001b[39m]\n\u001b[0;32m     42\u001b[0m publisher \u001b[38;5;241m=\u001b[39m database[\u001b[38;5;124m'\u001b[39m\u001b[38;5;124mresults\u001b[39m\u001b[38;5;124m'\u001b[39m][\u001b[38;5;241m0\u001b[39m][\u001b[38;5;124m'\u001b[39m\u001b[38;5;124mextensions\u001b[39m\u001b[38;5;124m'\u001b[39m][x][\u001b[38;5;124m'\u001b[39m\u001b[38;5;124mpublisher\u001b[39m\u001b[38;5;124m'\u001b[39m][\u001b[38;5;124m'\u001b[39m\u001b[38;5;124mpublisherName\u001b[39m\u001b[38;5;124m'\u001b[39m]\n\u001b[1;32m---> 43\u001b[0m downloads \u001b[38;5;241m=\u001b[39m \u001b[43mdatabase\u001b[49m\u001b[43m[\u001b[49m\u001b[38;5;124;43m'\u001b[39;49m\u001b[38;5;124;43mresults\u001b[39;49m\u001b[38;5;124;43m'\u001b[39;49m\u001b[43m]\u001b[49m\u001b[43m[\u001b[49m\u001b[38;5;241;43m0\u001b[39;49m\u001b[43m]\u001b[49m\u001b[43m[\u001b[49m\u001b[38;5;124;43m'\u001b[39;49m\u001b[38;5;124;43mextensions\u001b[39;49m\u001b[38;5;124;43m'\u001b[39;49m\u001b[43m]\u001b[49m\u001b[43m[\u001b[49m\u001b[43mx\u001b[49m\u001b[43m]\u001b[49m\u001b[43m[\u001b[49m\u001b[38;5;124;43m'\u001b[39;49m\u001b[38;5;124;43mstatistics\u001b[39;49m\u001b[38;5;124;43m'\u001b[39;49m\u001b[43m]\u001b[49m[\u001b[38;5;241m0\u001b[39m][\u001b[38;5;124m'\u001b[39m\u001b[38;5;124mvalue\u001b[39m\u001b[38;5;124m'\u001b[39m]\n\u001b[0;32m     44\u001b[0m rating \u001b[38;5;241m=\u001b[39m database[\u001b[38;5;124m'\u001b[39m\u001b[38;5;124mresults\u001b[39m\u001b[38;5;124m'\u001b[39m][\u001b[38;5;241m0\u001b[39m][\u001b[38;5;124m'\u001b[39m\u001b[38;5;124mextensions\u001b[39m\u001b[38;5;124m'\u001b[39m][x][\u001b[38;5;124m'\u001b[39m\u001b[38;5;124mstatistics\u001b[39m\u001b[38;5;124m'\u001b[39m][\u001b[38;5;241m-\u001b[39m\u001b[38;5;241m2\u001b[39m][\u001b[38;5;124m'\u001b[39m\u001b[38;5;124mvalue\u001b[39m\u001b[38;5;124m'\u001b[39m]\n\u001b[0;32m     45\u001b[0m verified \u001b[38;5;241m=\u001b[39m database[\u001b[38;5;124m'\u001b[39m\u001b[38;5;124mresults\u001b[39m\u001b[38;5;124m'\u001b[39m][\u001b[38;5;241m0\u001b[39m][\u001b[38;5;124m'\u001b[39m\u001b[38;5;124mextensions\u001b[39m\u001b[38;5;124m'\u001b[39m][x][\u001b[38;5;124m'\u001b[39m\u001b[38;5;124mpublisher\u001b[39m\u001b[38;5;124m'\u001b[39m][\u001b[38;5;124m'\u001b[39m\u001b[38;5;124misDomainVerified\u001b[39m\u001b[38;5;124m'\u001b[39m]\n",
      "\u001b[1;31mKeyError\u001b[0m: 'statistics'"
     ]
    }
   ],
   "source": [
    "# Already tested and implemented the scrapping process on jupyter notebook, copy paste it here. 67k entries were scrapped\n",
    "# I still need to examine the data to make sure it is up to date and no discrepancies\n",
    "import pandas as pd\n",
    "import requests\n",
    "\n",
    "vscodeDataSet = pd.DataFrame(columns = ['Extension Name','Publisher','Downloads','Rating','Verified','Published','Last Update']) # I might need more cols later\n",
    "\n",
    "url = \"https://marketplace.visualstudio.com/_apis/public/gallery/extensionquery\" # scrapping from this url\n",
    "headers = {\n",
    "        \"Accept\": \"application/json;api-version=3.0-preview.1\",\n",
    "        \"Content-Type\": \"application/json\"\n",
    "    }\n",
    "\n",
    "to_add = {\n",
    "    \"Extension Name\":[],\n",
    "    \"Publisher\":[],\n",
    "    \"Downloads\":[],\n",
    "    \"Rating\":[],\n",
    "    \"Verified\":[],\n",
    "    \"Published\":[],\n",
    "    \"Last Update\":[]\n",
    "}\n",
    "# 88 was found through trial and error. This is the maximum number of pages that can be scrapped \n",
    "for i in range(1,88):\n",
    "    payload = {\n",
    "            \"filters\": [\n",
    "                {\n",
    "                    \"criteria\": [\n",
    "                        {\"filterType\": 8, \"value\": \"Microsoft.VisualStudio.Code\"}],\n",
    "                    'pageNumber':i,\n",
    "                    'pageSize':1000,\n",
    "                    \n",
    "                }\n",
    "            ],\n",
    "            \"flags\": 870\n",
    "        }\n",
    "    make_request = requests.post(url,headers=headers,json=payload)\n",
    "    database = make_request.json()\n",
    "\n",
    "    for x in range(0,1000):\n",
    "        name = database['results'][0]['extensions'][x]['extensionName']\n",
    "        publisher = database['results'][0]['extensions'][x]['publisher']['publisherName']\n",
    "        downloads = database['results'][0]['extensions'][x]['statistics'][0]['value']\n",
    "        rating = database['results'][0]['extensions'][x]['statistics'][-2]['value']\n",
    "        verified = database['results'][0]['extensions'][x]['publisher']['isDomainVerified']\n",
    "        published = database['results'][0]['extensions'][x]['releaseDate']\n",
    "        lastUpdate = database['results'][0]['extensions'][x]['lastUpdated']\n",
    "            \n",
    "        new_row = pd.DataFrame([[name,publisher,downloads,rating,verified,published,lastUpdate]], columns=['Extension Name', 'Publisher', 'Downloads','Rating','Verified','Published','Last Update'])\n",
    "        updated_VscodeDataSet = pd.concat([vscodeDataSet,new_row])\n",
    "\n"
   ]
  },
  {
   "cell_type": "code",
   "execution_count": 3,
   "metadata": {},
   "outputs": [
    {
     "data": {
      "text/html": [
       "<div>\n",
       "<style scoped>\n",
       "    .dataframe tbody tr th:only-of-type {\n",
       "        vertical-align: middle;\n",
       "    }\n",
       "\n",
       "    .dataframe tbody tr th {\n",
       "        vertical-align: top;\n",
       "    }\n",
       "\n",
       "    .dataframe thead th {\n",
       "        text-align: right;\n",
       "    }\n",
       "</style>\n",
       "<table border=\"1\" class=\"dataframe\">\n",
       "  <thead>\n",
       "    <tr style=\"text-align: right;\">\n",
       "      <th></th>\n",
       "      <th>Extension Name</th>\n",
       "      <th>Publisher</th>\n",
       "      <th>Downloads</th>\n",
       "      <th>Rating</th>\n",
       "      <th>Verified</th>\n",
       "      <th>Published</th>\n",
       "      <th>Last Update</th>\n",
       "    </tr>\n",
       "  </thead>\n",
       "  <tbody>\n",
       "    <tr>\n",
       "      <th>0</th>\n",
       "      <td>fantasticbeasts-mucuk</td>\n",
       "      <td>panasaran</td>\n",
       "      <td>0.0</td>\n",
       "      <td>4.403205</td>\n",
       "      <td>False</td>\n",
       "      <td>2022-04-10T15:05:45.997Z</td>\n",
       "      <td>2022-04-10T15:08:05.62Z</td>\n",
       "    </tr>\n",
       "  </tbody>\n",
       "</table>\n",
       "</div>"
      ],
      "text/plain": [
       "          Extension Name  Publisher  Downloads    Rating Verified  \\\n",
       "0  fantasticbeasts-mucuk  panasaran        0.0  4.403205    False   \n",
       "\n",
       "                  Published              Last Update  \n",
       "0  2022-04-10T15:05:45.997Z  2022-04-10T15:08:05.62Z  "
      ]
     },
     "execution_count": 3,
     "metadata": {},
     "output_type": "execute_result"
    }
   ],
   "source": [
    "updated_VscodeDataSet"
   ]
  },
  {
   "cell_type": "code",
   "execution_count": null,
   "metadata": {},
   "outputs": [],
   "source": []
  }
 ],
 "metadata": {
  "kernelspec": {
   "display_name": "Python 3",
   "language": "python",
   "name": "python3"
  },
  "language_info": {
   "codemirror_mode": {
    "name": "ipython",
    "version": 3
   },
   "file_extension": ".py",
   "mimetype": "text/x-python",
   "name": "python",
   "nbconvert_exporter": "python",
   "pygments_lexer": "ipython3",
   "version": "3.12.2"
  }
 },
 "nbformat": 4,
 "nbformat_minor": 2
}
