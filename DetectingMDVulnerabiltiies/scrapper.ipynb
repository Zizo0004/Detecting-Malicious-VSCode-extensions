{
 "cells": [
  {
   "cell_type": "code",
   "execution_count": null,
   "metadata": {},
   "outputs": [
    {
     "name": "stderr",
     "output_type": "stream",
     "text": [
      "C:\\Users\\Ziyad\\AppData\\Local\\Temp\\ipykernel_22640\\4231743717.py:65: FutureWarning: The behavior of DataFrame concatenation with empty or all-NA entries is deprecated. In a future version, this will no longer exclude empty or all-NA columns when determining the result dtypes. To retain the old behavior, exclude the relevant entries before the concat operation.\n",
      "  vscodeDataSet = pd.concat([vscodeDataSet,new_row])\n"
     ]
    },
    {
     "ename": "IndexError",
     "evalue": "list index out of range",
     "output_type": "error",
     "traceback": [
      "\u001b[1;31m---------------------------------------------------------------------------\u001b[0m",
      "\u001b[1;31mIndexError\u001b[0m                                Traceback (most recent call last)",
      "Cell \u001b[1;32mIn[41], line 56\u001b[0m\n\u001b[0;32m     53\u001b[0m displayedPublisherName \u001b[38;5;241m=\u001b[39m database[\u001b[38;5;124m'\u001b[39m\u001b[38;5;124mresults\u001b[39m\u001b[38;5;124m'\u001b[39m][\u001b[38;5;241m0\u001b[39m][\u001b[38;5;124m'\u001b[39m\u001b[38;5;124mextensions\u001b[39m\u001b[38;5;124m'\u001b[39m][x][\u001b[38;5;124m'\u001b[39m\u001b[38;5;124mpublisher\u001b[39m\u001b[38;5;124m'\u001b[39m][\u001b[38;5;124m'\u001b[39m\u001b[38;5;124mdisplayName\u001b[39m\u001b[38;5;124m'\u001b[39m]\n\u001b[0;32m     55\u001b[0m downloads \u001b[38;5;241m=\u001b[39m database[\u001b[38;5;124m'\u001b[39m\u001b[38;5;124mresults\u001b[39m\u001b[38;5;124m'\u001b[39m][\u001b[38;5;241m0\u001b[39m][\u001b[38;5;124m'\u001b[39m\u001b[38;5;124mextensions\u001b[39m\u001b[38;5;124m'\u001b[39m][x][\u001b[38;5;124m'\u001b[39m\u001b[38;5;124mstatistics\u001b[39m\u001b[38;5;124m'\u001b[39m][\u001b[38;5;241m0\u001b[39m][\u001b[38;5;124m'\u001b[39m\u001b[38;5;124mvalue\u001b[39m\u001b[38;5;124m'\u001b[39m]\n\u001b[1;32m---> 56\u001b[0m rating \u001b[38;5;241m=\u001b[39m \u001b[43mdatabase\u001b[49m\u001b[43m[\u001b[49m\u001b[38;5;124;43m'\u001b[39;49m\u001b[38;5;124;43mresults\u001b[39;49m\u001b[38;5;124;43m'\u001b[39;49m\u001b[43m]\u001b[49m\u001b[43m[\u001b[49m\u001b[38;5;241;43m0\u001b[39;49m\u001b[43m]\u001b[49m\u001b[43m[\u001b[49m\u001b[38;5;124;43m'\u001b[39;49m\u001b[38;5;124;43mextensions\u001b[39;49m\u001b[38;5;124;43m'\u001b[39;49m\u001b[43m]\u001b[49m\u001b[43m[\u001b[49m\u001b[43mx\u001b[49m\u001b[43m]\u001b[49m\u001b[43m[\u001b[49m\u001b[38;5;124;43m'\u001b[39;49m\u001b[38;5;124;43mstatistics\u001b[39;49m\u001b[38;5;124;43m'\u001b[39;49m\u001b[43m]\u001b[49m\u001b[43m[\u001b[49m\u001b[38;5;241;43m-\u001b[39;49m\u001b[38;5;241;43m2\u001b[39;49m\u001b[43m]\u001b[49m[\u001b[38;5;124m'\u001b[39m\u001b[38;5;124mvalue\u001b[39m\u001b[38;5;124m'\u001b[39m]\n\u001b[0;32m     57\u001b[0m verified \u001b[38;5;241m=\u001b[39m database[\u001b[38;5;124m'\u001b[39m\u001b[38;5;124mresults\u001b[39m\u001b[38;5;124m'\u001b[39m][\u001b[38;5;241m0\u001b[39m][\u001b[38;5;124m'\u001b[39m\u001b[38;5;124mextensions\u001b[39m\u001b[38;5;124m'\u001b[39m][x][\u001b[38;5;124m'\u001b[39m\u001b[38;5;124mpublisher\u001b[39m\u001b[38;5;124m'\u001b[39m][\u001b[38;5;124m'\u001b[39m\u001b[38;5;124misDomainVerified\u001b[39m\u001b[38;5;124m'\u001b[39m]\n\u001b[0;32m     58\u001b[0m published \u001b[38;5;241m=\u001b[39m database[\u001b[38;5;124m'\u001b[39m\u001b[38;5;124mresults\u001b[39m\u001b[38;5;124m'\u001b[39m][\u001b[38;5;241m0\u001b[39m][\u001b[38;5;124m'\u001b[39m\u001b[38;5;124mextensions\u001b[39m\u001b[38;5;124m'\u001b[39m][x][\u001b[38;5;124m'\u001b[39m\u001b[38;5;124mreleaseDate\u001b[39m\u001b[38;5;124m'\u001b[39m]\n",
      "\u001b[1;31mIndexError\u001b[0m: list index out of range"
     ]
    }
   ],
   "source": [
    "# Already tested and implemented the scrapping process on jupyter notebook, copy paste it here. 67k entries were scrapped\n",
    "# I still need to examine the data to make sure it is up to date and no discrepancies\n",
    "# Display names needs to be added, or i think it was extensionName\n",
    "\n",
    "# extensions after the 8th are not being included. Another I could do it -> infinite scroll and gather each title name, then append it to the url and get the info. I still do not know why the below doesnt work rn\n",
    "import pandas as pd\n",
    "import requests\n",
    "from datetime import datetime\n",
    "from dateutil import parser\n",
    "\n",
    "\n",
    "vscodeDataSet = pd.DataFrame(columns = ['Extension Name', 'Publisher Name', 'DisplayPublisherName','DisplayExtensionName','Downloads','Rating','Verified','Published','Last Update']) # I might need more cols later\n",
    "url = \"https://marketplace.visualstudio.com/_apis/public/gallery/extensionquery\" # scrapping from this url\n",
    "headers = {\n",
    "        \"Accept\": \"application/json;api-version=3.0-preview.1\",\n",
    "        \"Content-Type\": \"application/json\"\n",
    "    }\n",
    "# 88 was found through trial and error. This is the maximum number of pages that can be scrapped \n",
    "for i in range(0,88):\n",
    "    payload = {\n",
    "            \"filters\": [\n",
    "                {\n",
    "                    \"criteria\": [\n",
    "                        {\"filterType\": 8, \"value\": \"Microsoft.VisualStudio.Code\"}],\n",
    "                    'pageNumber':i,\n",
    "                    'pageSize':1000,\n",
    "                    \n",
    "                }\n",
    "            ],\n",
    "            \"flags\": 870\n",
    "        }\n",
    "    make_request = requests.post(url,headers=headers,json=payload)\n",
    "    database = make_request.json()\n",
    "\n",
    "    for x in range(0,1000):\n",
    "        # By looking at the json file, this is how I can access each field that I want.\n",
    "        extensionName = database['results'][0]['extensions'][x]['extensionName']\n",
    "        publisherName = database['results'][0]['extensions'][x]['publisher']['publisherName']\n",
    "        displayedExtensionName = database['results'][0]['extensions'][x]['displayName']\n",
    "        displayedPublisherName = database['results'][0]['extensions'][x]['publisher']['displayName']\n",
    "        downloads = database['results'][0]['extensions'][x]['statistics'][0]['value']\n",
    "        rating = database['results'][0]['extensions'][x]['statistics'][-2]['value']\n",
    "        verified = database['results'][0]['extensions'][x]['publisher']['isDomainVerified']\n",
    "        published = database['results'][0]['extensions'][x]['releaseDate']\n",
    "        lastUpdate = database['results'][0]['extensions'][x]['lastUpdated']\n",
    "\n",
    "        date = parser.isoparse(published)\n",
    "        timestamp = int(datetime.timestamp(date))\n",
    "        \n",
    "        new_row = pd.DataFrame([[extensionName,publisherName,displayedPublisherName,displayedExtensionName,downloads,rating,verified,timestamp,lastUpdate]], columns=['Extension Name', 'Publisher Name', 'DisplayPublisherName','DisplayExtensionName','Downloads','Rating','Verified','Published','Last Update'])\n",
    "        vscodeDataSet = pd.concat([vscodeDataSet,new_row])    \n",
    "        #updated_VscodeDataSet = pd.concat([vscodeDataSet,new_row])\n",
    "\n"
   ]
  },
  {
   "cell_type": "code",
   "execution_count": 56,
   "metadata": {},
   "outputs": [
    {
     "name": "stdout",
     "output_type": "stream",
     "text": [
      "          Extension Name Publisher Name DisplayPublisherName  \\\n",
      "0  create-file-structure     0201394333               dicode   \n",
      "\n",
      "    DisplayExtensionName  Downloads    Rating Verified   Published  \\\n",
      "0  Create File Structure        2.0  4.403205    False  1739751332   \n",
      "\n",
      "                Last Update  \n",
      "0  2025-02-21T18:06:55.987Z  \n"
     ]
    }
   ],
   "source": [
    "vscodeDataSet['Published'] = vscodeDataSet['Published'].sort_values(ascending=True)\n",
    "vscodeDataSet.drop_duplicates(keep='first',inplace=True) # 1-2k duplicates found\n",
    "vscodeDataSet.isnull().sum() # no values that are null\n",
    "print(vscodeDataSet.query('`Extension Name` == \"create-file-structure\"')) # testing if the data is correct\n"
   ]
  },
  {
   "cell_type": "code",
   "execution_count": null,
   "metadata": {},
   "outputs": [],
   "source": []
  },
  {
   "cell_type": "code",
   "execution_count": null,
   "metadata": {},
   "outputs": [],
   "source": []
  }
 ],
 "metadata": {
  "kernelspec": {
   "display_name": "Python 3",
   "language": "python",
   "name": "python3"
  },
  "language_info": {
   "codemirror_mode": {
    "name": "ipython",
    "version": 3
   },
   "file_extension": ".py",
   "mimetype": "text/x-python",
   "name": "python",
   "nbconvert_exporter": "python",
   "pygments_lexer": "ipython3",
   "version": "3.12.2"
  }
 },
 "nbformat": 4,
 "nbformat_minor": 2
}
