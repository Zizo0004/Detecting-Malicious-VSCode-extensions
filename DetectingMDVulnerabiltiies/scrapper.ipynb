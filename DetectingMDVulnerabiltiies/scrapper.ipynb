{
 "cells": [
  {
   "cell_type": "code",
   "execution_count": null,
   "metadata": {},
   "outputs": [],
   "source": [
    "# Already tested and implemented the scrapping process on jupyter notebook, copy paste it here. 67k entries were scrapped\n",
    "# I still need to examine the data to make sure it is up to date and no discrepancies\n",
    "# Display names needs to be added, or i think it was extensionName\n",
    "\n",
    "import pandas as pd\n",
    "import requests\n",
    "from datetime import datetime\n",
    "from dateutil import parser\n",
    "\n",
    "\n",
    "vscodeDataSet = pd.DataFrame(columns = ['Extension Name','Publisher','Downloads','Rating','Verified','Published','Last Update']) # I might need more cols later\n",
    "\n",
    "url = \"https://marketplace.visualstudio.com/_apis/public/gallery/extensionquery\" # scrapping from this url\n",
    "headers = {\n",
    "        \"Accept\": \"application/json;api-version=3.0-preview.1\",\n",
    "        \"Content-Type\": \"application/json\"\n",
    "    }\n",
    "\n",
    "to_add = {\n",
    "    \"Extension Name\":[],\n",
    "    \"Publisher\":[],\n",
    "    \"Downloads\":[],\n",
    "    \"Rating\":[],\n",
    "    \"Verified\":[],\n",
    "    \"Published\":[],\n",
    "    \"Last Update\":[]\n",
    "}\n",
    "# 88 was found through trial and error. This is the maximum number of pages that can be scrapped \n",
    "for i in range(1,88):\n",
    "    payload = {\n",
    "            \"filters\": [\n",
    "                {\n",
    "                    \"criteria\": [\n",
    "                        {\"filterType\": 8, \"value\": \"Microsoft.VisualStudio.Code\"}],\n",
    "                    'pageNumber':i,\n",
    "                    'pageSize':1000,\n",
    "                    \n",
    "                }\n",
    "            ],\n",
    "            \"flags\": 870\n",
    "        }\n",
    "    make_request = requests.post(url,headers=headers,json=payload)\n",
    "    database = make_request.json()\n",
    "\n",
    "    for x in range(0,1000):\n",
    "        # By looking at the json file, this is how I can access each field that I want.\n",
    "        name = database['results'][0]['extensions'][x]['extensionName']\n",
    "        publisher = database['results'][0]['extensions'][x]['publisher']['publisherName']\n",
    "        downloads = database['results'][0]['extensions'][x]['statistics'][0]['value']\n",
    "        rating = database['results'][0]['extensions'][x]['statistics'][-2]['value']\n",
    "        verified = database['results'][0]['extensions'][x]['publisher']['isDomainVerified']\n",
    "        published = database['results'][0]['extensions'][x]['releaseDate']\n",
    "        lastUpdate = database['results'][0]['extensions'][x]['lastUpdated']\n",
    "        date = parser.isoparse(published)\n",
    "        timestamp = int(datetime.timestamp(date))\n",
    "        \n",
    "        new_row = pd.DataFrame([[name,publisher,downloads,rating,verified,timestamp,lastUpdate]], columns=['Extension Name', 'Publisher', 'Downloads','Rating','Verified','Published','Last Update'])\n",
    "        vscodeDataSet = pd.concat([vscodeDataSet,new_row])    \n",
    "        #updated_VscodeDataSet = pd.concat([vscodeDataSet,new_row])\n",
    "\n"
   ]
  },
  {
   "cell_type": "code",
   "execution_count": null,
   "metadata": {},
   "outputs": [],
   "source": [
    "vscodeDataSet.drop_duplicates(keep='first',inplace=True) # 1-2k duplicates found\n",
    "vscodeDataSet.isnull().sum() # no values that are null"
   ]
  }
 ],
 "metadata": {
  "kernelspec": {
   "display_name": "Python 3",
   "language": "python",
   "name": "python3"
  },
  "language_info": {
   "name": "python",
   "version": "3.12.2"
  }
 },
 "nbformat": 4,
 "nbformat_minor": 2
}
