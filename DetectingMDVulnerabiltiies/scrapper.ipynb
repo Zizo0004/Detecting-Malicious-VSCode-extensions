{
 "cells": [
  {
   "cell_type": "code",
   "execution_count": 2,
   "metadata": {},
   "outputs": [
    {
     "name": "stderr",
     "output_type": "stream",
     "text": [
      "C:\\Users\\Ziyad\\AppData\\Local\\Temp\\ipykernel_11996\\2972472533.py:54: FutureWarning: The behavior of DataFrame concatenation with empty or all-NA entries is deprecated. In a future version, this will no longer exclude empty or all-NA columns when determining the result dtypes. To retain the old behavior, exclude the relevant entries before the concat operation.\n",
      "  vscodeDataSet = pd.concat([vscodeDataSet,new_row])\n"
     ]
    }
   ],
   "source": [
    "# Already tested and implemented the scrapping process on jupyter notebook, copy paste it here. 67k entries were scrapped\n",
    "# I still need to examine the data to make sure it is up to date and no discrepancies\n",
    "# Display names needs to be added, or i think it was extensionName\n",
    "\n",
    "# extensions after the 8th are not being included. Another I could do it -> infinite scroll and gather each title name, then append it to the url and get the info. I still do not know why the below doesnt work rn\n",
    "import pandas as pd\n",
    "import requests\n",
    "from datetime import datetime\n",
    "from dateutil import parser\n",
    "\n",
    "\n",
    "vscodeDataSet = pd.DataFrame(columns = ['Extension Name', 'Publisher Name', 'DisplayPublisherName','DisplayExtensionName','Downloads','Rating','Verified','Published','Last Update']) # I might need more cols later\n",
    "url = \"https://marketplace.visualstudio.com/_apis/public/gallery/extensionquery\" # scrapping from this url\n",
    "headers = {\n",
    "        \"Accept\": \"application/json;api-version=3.0-preview.1\",\n",
    "        \"Content-Type\": \"application/json\"\n",
    "    }\n",
    "# 88 was found through trial and error. This is the maximum number of pages that can be scrapped \n",
    "for i in range(0,89):\n",
    "    payload = {\n",
    "            \"filters\": [\n",
    "                {\n",
    "                    \"criteria\": [\n",
    "                        {\"filterType\": 8, \"value\": \"Microsoft.VisualStudio.Code\"}],\n",
    "                    'pageNumber':i,\n",
    "                    'pageSize':1000,\n",
    "                    \n",
    "                }\n",
    "            ],\n",
    "            \"flags\": 870\n",
    "        }\n",
    "    make_request = requests.post(url,headers=headers,json=payload)\n",
    "    database = make_request.json()\n",
    "\n",
    "    for x in range(0,1000):\n",
    "        # By looking at the json file, this is how I can access each field that I want.\n",
    "            extensionName = database['results'][0]['extensions'][x]['extensionName']\n",
    "            publisherName = database['results'][0]['extensions'][x]['publisher']['publisherName']\n",
    "            displayedExtensionName = database['results'][0]['extensions'][x]['displayName']\n",
    "            displayedPublisherName = database['results'][0]['extensions'][x]['publisher']['displayName']\n",
    "            try:\n",
    "                downloads = database['results'][0]['extensions'][x]['statistics'][0]['value']\n",
    "                rating = database['results'][0]['extensions'][x]['statistics'][-2]['value']\n",
    "            except Exception as e:\n",
    "                downloads = 0\n",
    "                rating = 0\n",
    "            \n",
    "            verified = database['results'][0]['extensions'][x]['publisher']['isDomainVerified']\n",
    "            published = database['results'][0]['extensions'][x]['releaseDate']\n",
    "            lastUpdate = database['results'][0]['extensions'][x]['lastUpdated']\n",
    "            date = parser.isoparse(published)\n",
    "            timestamp = int(datetime.timestamp(date))\n",
    "            new_row = pd.DataFrame([[extensionName,publisherName,displayedPublisherName,displayedExtensionName,downloads,rating,verified,timestamp,lastUpdate]], columns=['Extension Name', 'Publisher Name', 'DisplayPublisherName','DisplayExtensionName','Downloads','Rating','Verified','Published','Last Update'])\n",
    "            vscodeDataSet = pd.concat([vscodeDataSet,new_row])"
   ]
  },
  {
   "cell_type": "code",
   "execution_count": 14,
   "metadata": {},
   "outputs": [
    {
     "name": "stdout",
     "output_type": "stream",
     "text": [
      "88107\n"
     ]
    }
   ],
   "source": [
    "vscodeDataSet['Published'] = vscodeDataSet['Published'].sort_values(ascending=True)\n",
    "vscodeDataSet.drop_duplicates(keep='first',inplace=True) # 1-2k duplicates found\n",
    "vscodeDataSet.isnull().sum() # no values that are null\n",
    "# Filter the DataFrame to include only rows where 'Downloads' is less than 1,000,000\n",
    "filtered_vscodeDataSet = vscodeDataSet[vscodeDataSet['Downloads'] < 1000000]\n",
    "\n",
    "# If you want to count the number of such rows, you can use the len() function\n",
    "count = len(filtered_vscodeDataSet)\n",
    "print(count)\n"
   ]
  },
  {
   "cell_type": "code",
   "execution_count": null,
   "metadata": {},
   "outputs": [],
   "source": [
    "\"\"\"url = 'https://marketplace.visualstudio.com/items?itemName='\n",
    "for i,j in vscodeDataSet.iterrows():\n",
    "    url = f'https://marketplace.visualstudio.com/items?itemName={j['Publisher Name']}.{j['Extension Name']}'\n",
    "    vscode_request = requests.get(url=url)\n",
    "    print(vscode_request.status_code)\"\"\""
   ]
  }
 ],
 "metadata": {
  "kernelspec": {
   "display_name": "Python 3",
   "language": "python",
   "name": "python3"
  },
  "language_info": {
   "codemirror_mode": {
    "name": "ipython",
    "version": 3
   },
   "file_extension": ".py",
   "mimetype": "text/x-python",
   "name": "python",
   "nbconvert_exporter": "python",
   "pygments_lexer": "ipython3",
   "version": "3.12.2"
  }
 },
 "nbformat": 4,
 "nbformat_minor": 2
}
